{
  "nbformat": 4,
  "nbformat_minor": 0,
  "metadata": {
    "colab": {
      "provenance": []
    },
    "kernelspec": {
      "name": "python3",
      "display_name": "Python 3"
    },
    "language_info": {
      "name": "python"
    }
  },
  "cells": [
    {
      "cell_type": "code",
      "source": [
        "pip install tabulate"
      ],
      "metadata": {
        "colab": {
          "base_uri": "https://localhost:8080/"
        },
        "id": "ezbVYDBZ1eaE",
        "outputId": "764617e2-1fc9-4799-d56b-b08bc5365a76"
      },
      "execution_count": null,
      "outputs": [
        {
          "output_type": "stream",
          "name": "stdout",
          "text": [
            "Looking in indexes: https://pypi.org/simple, https://us-python.pkg.dev/colab-wheels/public/simple/\n",
            "Requirement already satisfied: tabulate in /usr/local/lib/python3.8/dist-packages (0.8.10)\n"
          ]
        }
      ]
    },
    {
      "cell_type": "code",
      "source": [
        "# untuk membuat table\n",
        "from tabulate import tabulate"
      ],
      "metadata": {
        "id": "wnEgDc5i5CWJ"
      },
      "execution_count": null,
      "outputs": []
    },
    {
      "cell_type": "code",
      "source": [
        "# class transaction\n",
        "class Transaction:\n",
        "\n",
        "    # inisialisasi data transaksi\n",
        "    data_transaksi = []\n",
        "    \n",
        "    # inisialisasi attribute\n",
        "    def __init__(self):\n",
        "        pass\n",
        "\n",
        "    # Daftar barang yang dijual\n",
        "        self.daftar_barang = {\n",
        "            \"Beras\": [11000, \"1kg\"],\n",
        "            \"Telur Ayam\": [15000, \"10 butir\"],\n",
        "            \"Ikan\": [8000, \"1 ekor\"],\n",
        "            \"Ayam\": [32000, \"1 ekor\"],\n",
        "            \"Kangkung\": [8000, \"1 ikat\"]\n",
        "        }\n",
        "    \n",
        "    # CEK DAFTAR BARANG\n",
        "    def check_item(self):\n",
        "        headers = [\"Nama Barang\", \"Harga Satuan (Rupiah)\", \"Satuan\"]\n",
        "\n",
        "        tables = [\n",
        "            [\"Beras\", 11_000, \"1kg\"],\n",
        "            [\"Telur Ayam\", 15_000, \"10 butir\"],\n",
        "            [\"Ikan\", 8_000, \"1 ekor\"],\n",
        "            [\"Ayam\", 32_000, \"1 ekor\"],\n",
        "            [\"Kangkung\", 8_000, \"1 ikat\"]\n",
        "        ]\n",
        "\n",
        "        print(\"Daftar Barang Toko Pacstore\")\n",
        "        print(tabulate(tables, headers, tablefmt=\"github\", numalign = \"left\"))\n",
        "\n",
        "    # MENAMBAH ITEM ORDER\n",
        "    def add_to_cart(self):\n",
        "        print(f\"Masukan data belanjaan Anda\")\n",
        "        tambah_barang = input(\"Barang: \")\n",
        "        if tambah_barang in self.daftar_barang:\n",
        "            tambah_kuantitas = int(input(\"Jumlah: \"))\n",
        "            if tambah_kuantitas >= 0:\n",
        "              harga_satuan_barang = self.daftar_barang[tambah_barang][0]\n",
        "              print(f\"Harga Satuan: Rp {harga_satuan_barang} per {self.daftar_barang[tambah_barang][1]}\")\n",
        "              harga_total_barang = tambah_kuantitas * harga_satuan_barang\n",
        "              print(f\"Total Harga: Rp {harga_total_barang}\")\n",
        "            else:\n",
        "              print(f\"Jumlah harus lebih dari 0\")\n",
        "        else:\n",
        "            print(\"Anda salah input.\")\n",
        "            print(\"Masukan nama barang yang terdaftar.\")\n",
        "            print(\"Atau, pastikan barang yang diinput hurufnya identik dengan daftar barang.\")\n",
        "\n",
        "        Transaction.data_transaksi.append({\n",
        "          \"barang\": tambah_barang,\n",
        "          \"kuantitas\": tambah_kuantitas,\n",
        "          \"harga_satuan\": harga_satuan_barang,\n",
        "          \"harga_total\": harga_total_barang\n",
        "          })\n",
        "        \n",
        "    # MENAMPILKAN DAFTAR ORDER\n",
        "    def check_order(self):\n",
        "\n",
        "        headers = [\"No\", \"Barang\", \"Jumlah\", \"Harga Satuan\", \"Harga Total\"]\n",
        "\n",
        "        # tabel order\n",
        "        order = []\n",
        "        no = 1\n",
        "        total_order = 0\n",
        "        for transaksi in self.data_transaksi:\n",
        "          total_order += transaksi[\"harga_total\"]\n",
        "          order.append([\n",
        "              no,\n",
        "              transaksi['barang'],\n",
        "              transaksi['kuantitas'],\n",
        "              f\"Rp {transaksi['harga_satuan']}\",\n",
        "              f\"Rp {transaksi['harga_total']}\"\n",
        "          ])\n",
        "\n",
        "          no += 1\n",
        "\n",
        "        if total_order in range(1, 200000):\n",
        "            diskon = 0\n",
        "            harga_total_setelah_diskon = total_order - diskon\n",
        "        if total_order in range(200001, 300001):\n",
        "            diskon = total_order * 0.05\n",
        "            harga_total_setelah_diskon = total_order - diskon\n",
        "        if total_order in range(300001, 500001):\n",
        "            diskon = total_order * 0.08\n",
        "            harga_total_setelah_diskon = total_order - diskon\n",
        "        if total_order > 500000:\n",
        "            diskon = total_order * 0.1\n",
        "            harga_total_setelah_diskon = total_order - diskon\n",
        "\n",
        "        # display data transaksi\n",
        "        try:\n",
        "          if True:\n",
        "            print(\"Data Transaksi:\")\n",
        "            print(tabulate(order, headers, tablefmt=\"github\", numalign = \"left\"))\n",
        "            print(f\"Total pesanan adalah: Rp {total_order}\")\n",
        "            print(f\"Besaran diskon adalah: Rp {diskon}\")\n",
        "            print(f\"Total pesanan setelah diskon: Rp {harga_total_setelah_diskon}\")\n",
        "            print(f\"Pemesanan sudah benar\")\n",
        "        except:\n",
        "            raise Exception(f\"Order masih 0.\")\n",
        "\n",
        "    # HAPUS BARANG DI ORDER\n",
        "    def delete_item(self):\n",
        "        print(\"Hapus data belanjaan Anda\")\n",
        "\n",
        "        # table order sementara       \n",
        "        headers = [\"No\", \"Barang\", \"Jumlah\", \"Harga Satuan\", \"Harga Total\"]\n",
        "\n",
        "        # tabel order\n",
        "        order = []\n",
        "        no = 1\n",
        "        total_order = 0\n",
        "        for transaksi in self.data_transaksi:\n",
        "            total_order += transaksi[\"harga_total\"]\n",
        "            order.append([\n",
        "              no,\n",
        "              transaksi['barang'],\n",
        "              transaksi['kuantitas'],\n",
        "              f\"Rp {transaksi['harga_satuan']}\",\n",
        "              f\"Rp {transaksi['harga_total']}\"\n",
        "            ])\n",
        "            no += 1\n",
        "\n",
        "        if total_order in range(1, 200000):\n",
        "            diskon = 0\n",
        "            harga_total_setelah_diskon = total_order - diskon\n",
        "        if total_order in range(200001, 300001):\n",
        "            diskon = total_order * 0.05\n",
        "            harga_total_setelah_diskon = total_order - diskon\n",
        "        if total_order in range(300001, 500001):\n",
        "            diskon = total_order * 0.08\n",
        "            harga_total_setelah_diskon = total_order - diskon\n",
        "        if total_order > 500000:\n",
        "            diskon = total_order * 0.1\n",
        "            harga_total_setelah_diskon = total_order - diskon\n",
        "\n",
        "        # display data transaksi\n",
        "        try:\n",
        "          if True:\n",
        "            print(\"Data Transaksi:\")\n",
        "            print(tabulate(order, headers, tablefmt=\"github\", numalign = \"left\"))\n",
        "            print(f\"Total pesanan adalah: Rp {total_order}\")\n",
        "            print(f\"Besaran diskon adalah: Rp {diskon}\")\n",
        "            print(f\"Total pesanan setelah diskon: Rp {harga_total_setelah_diskon}\")\n",
        "            print(f\"Pemesanan sudah benar\")\n",
        "        except:\n",
        "            raise Exception(f\"Order masih 0.\")\n",
        "\n",
        "        # input item yang mau dihapus        \n",
        "        print(\"Masukan nomer barang di daftar belanjaan Anda yang ingin dihapus.\")\n",
        "        update_index = int(input(\"Nomer Barang: \"))\n",
        "\n",
        "        if update_index > 0 and update_index <= len(Transaction.data_transaksi):\n",
        "            update_item = Transaction.data_transaksi.pop()\n",
        "            print(f\"Barang yang Anda input sudah dihapus.\")\n",
        "\n",
        "        else:\n",
        "          print(\"Input salah. Initiate kembali dan masukan nama barang di daftar belanjaan Anda yang ingin dihapus.\")\n",
        "          return\n",
        "\n",
        "    # UPDATE ORDER\n",
        "    def update_cart(self):\n",
        "        print(\"Update data belanjaan Anda\")\n",
        "\n",
        "        # table order sementara       \n",
        "        headers = [\"No\", \"Barang\", \"Jumlah\", \"Harga Satuan\", \"Harga Total\"]\n",
        "\n",
        "        # tabel order\n",
        "        order = []\n",
        "        no = 1\n",
        "        total_order = 0\n",
        "        for transaksi in self.data_transaksi:\n",
        "            total_order += transaksi[\"harga_total\"]\n",
        "            order.append([\n",
        "              no,\n",
        "              transaksi['barang'],\n",
        "              transaksi['kuantitas'],\n",
        "              f\"Rp {transaksi['harga_satuan']}\",\n",
        "              f\"Rp {transaksi['harga_total']}\"\n",
        "            ])\n",
        "            no += 1\n",
        "\n",
        "        if total_order in range(1, 200000):\n",
        "            diskon = 0\n",
        "            harga_total_setelah_diskon = total_order - diskon\n",
        "        if total_order in range(200001, 300001):\n",
        "            diskon = total_order * 0.05\n",
        "            harga_total_setelah_diskon = total_order - diskon\n",
        "        if total_order in range(300001, 500001):\n",
        "            diskon = total_order * 0.08\n",
        "            harga_total_setelah_diskon = total_order - diskon\n",
        "        if total_order > 500000:\n",
        "            diskon = total_order * 0.1\n",
        "            harga_total_setelah_diskon = total_order - diskon\n",
        "\n",
        "        # display data transaksi\n",
        "        try:\n",
        "          if True:\n",
        "            print(\"Data Transaksi:\")\n",
        "            print(tabulate(order, headers, tablefmt=\"github\", numalign = \"left\"))\n",
        "            print(f\"Total pesanan adalah: Rp {total_order}\")\n",
        "            print(f\"Besaran diskon adalah: Rp {diskon}\")\n",
        "            print(f\"Total pesanan setelah diskon: Rp {harga_total_setelah_diskon}\")\n",
        "            print(f\"Pemesanan sudah benar\")\n",
        "        except:\n",
        "            raise Exception(f\"Order masih 0.\")\n",
        "\n",
        "        # input item baru        \n",
        "        print(\"Masukan nomer barang di daftar belanjaan Anda yang ingin di-update\")\n",
        "        update_index = int(input(\"Nomer Barang: \"))\n",
        "\n",
        "        if update_index > 0 and update_index <= len(Transaction.data_transaksi):\n",
        "            update_item = Transaction.data_transaksi[update_index - 1]\n",
        "\n",
        "            # proses update belanjaan\n",
        "            print(\"Masukan nama barang yang baru\")\n",
        "            update_barang = input(f\"Barang: \")\n",
        "            if update_barang in self.daftar_barang:\n",
        "                update_kuantitas = int(input(\"Jumlah: \"))\n",
        "                if update_kuantitas >= 0:\n",
        "                    update_harga_satuan = update_item[\"harga_satuan\"]\n",
        "                    print(f\"Harga Satuan: Rp {update_harga_satuan} per {self.daftar_barang[update_barang][1]}\")\n",
        "                    update_harga_total = update_kuantitas * update_harga_satuan\n",
        "                    print(f\"Total Harga: Rp {update_harga_total}\")\n",
        "                else:\n",
        "                    print(f\"Jumlah harus lebih dari 0\")\n",
        "\n",
        "            else:\n",
        "              print(f\"Anda salah input.\")\n",
        "              print(f\"Masukan nama barang yang terdaftar.\")\n",
        "              print(f\"Atau, pastikan barang yang diinput hurufnya identik dengan daftar barang.\")\n",
        "\n",
        "\n",
        "        else:\n",
        "          print(\"Input salah. Initiate kembali dan masukan nama barang di daftar belanjaan Anda yang akan di-update.\")\n",
        "          return\n",
        "        \n",
        "        # update belanjaan ke data_transaksi list\n",
        "        Transaction.data_transaksi[update_index - 1] = {\n",
        "         \"barang\": update_barang,\n",
        "         \"kuantitas\": update_kuantitas,\n",
        "         \"harga_satuan\": update_harga_satuan,\n",
        "          \"harga_total\": update_harga_total\n",
        "         }  \n",
        "\n",
        "    # RESET DATA TRANSAKSI\n",
        "    def reset_order(self):\n",
        "\n",
        "        headers = [\"No\", \"Barang\", \"Jumlah\", \"Harga Satuan\", \"Harga Total\"]\n",
        "\n",
        "        # tabel order\n",
        "        order = []\n",
        "        no = 1\n",
        "        total_order = 0\n",
        "        for transaksi in self.data_transaksi:\n",
        "          total_order += transaksi[\"harga_total\"]\n",
        "          order.append([\n",
        "              no,\n",
        "              transaksi['barang'],\n",
        "              transaksi['kuantitas'],\n",
        "              f\"Rp {transaksi['harga_satuan']}\",\n",
        "              f\"Rp {transaksi['harga_total']}\"\n",
        "          ])\n",
        "\n",
        "          no += 1\n",
        "\n",
        "        if total_order in range(1, 200000):\n",
        "            diskon = 0\n",
        "            harga_total_setelah_diskon = total_order - diskon\n",
        "        if total_order in range(200001, 300001):\n",
        "            diskon = total_order * 0.05\n",
        "            harga_total_setelah_diskon = total_order - diskon\n",
        "        if total_order in range(300001, 500001):\n",
        "            diskon = total_order * 0.08\n",
        "            harga_total_setelah_diskon = total_order - diskon\n",
        "        if total_order > 500000:\n",
        "            diskon = total_order * 0.1\n",
        "            harga_total_setelah_diskon = total_order - diskon\n",
        "\n",
        "        # display data transaksi\n",
        "        try:\n",
        "          if True:\n",
        "            print(\"Data Transaksi:\")\n",
        "            print(tabulate(order, headers, tablefmt=\"github\", numalign = \"left\"))\n",
        "            print(f\"Total pesanan adalah: Rp {total_order}\")\n",
        "            print(f\"Besaran diskon adalah: Rp {diskon}\")\n",
        "            print(f\"Total pesanan setelah diskon: Rp {harga_total_setelah_diskon}\")\n",
        "            print(f\"Pemesanan sudah benar\")\n",
        "        except:\n",
        "            raise Exception(f\"Order masih 0.\")\n",
        "\n",
        "        reset_transaksi = str(input(\"Anda ingin reset order (Ya/Tidak)?\"))\n",
        "        if reset_transaksi == \"Ya\":\n",
        "            self.data_transaksi.clear()\n",
        "            print(f\"Semua barang berhasil dihapus!\")\n",
        "        elif reset_transaksi == \"Tidak\":\n",
        "            return (f\"Silakan lanjutkan berbelanja\")\n",
        "        else:\n",
        "            print(\"Input yang diterima hanya Ya atau Tidak.\")"
      ],
      "metadata": {
        "id": "B85pl5ME16DF"
      },
      "execution_count": null,
      "outputs": []
    },
    {
      "cell_type": "markdown",
      "source": [
        "INISIASI TRANSAKSI"
      ],
      "metadata": {
        "id": "Hzo1GgX_yPVL"
      }
    },
    {
      "cell_type": "code",
      "source": [
        "transaction_1 = Transaction()"
      ],
      "metadata": {
        "id": "7K3etqj-RLtu"
      },
      "execution_count": null,
      "outputs": []
    },
    {
      "cell_type": "code",
      "source": [
        "transaction_1.check_item()"
      ],
      "metadata": {
        "colab": {
          "base_uri": "https://localhost:8080/"
        },
        "id": "qlCGwnpsfMrV",
        "outputId": "a7566066-f834-4e9d-928c-8606a7c0dfd8"
      },
      "execution_count": null,
      "outputs": [
        {
          "output_type": "stream",
          "name": "stdout",
          "text": [
            "Daftar Barang Toko Pacstore\n",
            "| Nama Barang   | Harga Satuan (Rupiah)   | Satuan   |\n",
            "|---------------|-------------------------|----------|\n",
            "| Beras         | 11000                   | 1kg      |\n",
            "| Telur Ayam    | 15000                   | 10 butir |\n",
            "| Ikan          | 8000                    | 1 ekor   |\n",
            "| Ayam          | 32000                   | 1 ekor   |\n",
            "| Kangkung      | 8000                    | 1 ikat   |\n"
          ]
        }
      ]
    },
    {
      "cell_type": "markdown",
      "source": [
        "TEST 1"
      ],
      "metadata": {
        "id": "GRoS06FAez2r"
      }
    },
    {
      "cell_type": "code",
      "source": [
        "transaction_1.add_to_cart()"
      ],
      "metadata": {
        "colab": {
          "base_uri": "https://localhost:8080/"
        },
        "id": "vxwYRp4CewfE",
        "outputId": "8d979905-7c02-4daa-e00e-9a816d59e153"
      },
      "execution_count": null,
      "outputs": [
        {
          "output_type": "stream",
          "name": "stdout",
          "text": [
            "Masukan data belanjaan Anda\n",
            "Barang: Beras\n",
            "Jumlah: 2\n",
            "Harga Satuan: Rp 11000 per 1kg\n",
            "Total Harga: Rp 22000\n"
          ]
        }
      ]
    },
    {
      "cell_type": "code",
      "source": [
        "transaction_1.add_to_cart()"
      ],
      "metadata": {
        "colab": {
          "base_uri": "https://localhost:8080/"
        },
        "id": "tr21yyZwfDqH",
        "outputId": "d352a345-1c2f-4aaa-e86b-307b7b4541fd"
      },
      "execution_count": null,
      "outputs": [
        {
          "output_type": "stream",
          "name": "stdout",
          "text": [
            "Masukan data belanjaan Anda\n",
            "Barang: Ayam\n",
            "Jumlah: 3\n",
            "Harga Satuan: Rp 32000 per 1 ekor\n",
            "Total Harga: Rp 96000\n"
          ]
        }
      ]
    },
    {
      "cell_type": "code",
      "source": [
        "transaction_1.check_order()"
      ],
      "metadata": {
        "colab": {
          "base_uri": "https://localhost:8080/"
        },
        "id": "lVefb353feM9",
        "outputId": "8b234bc9-2f40-41d5-97ef-930e5ad80ed3"
      },
      "execution_count": null,
      "outputs": [
        {
          "output_type": "stream",
          "name": "stdout",
          "text": [
            "Data Transaksi:\n",
            "| No   | Barang   | Jumlah   | Harga Satuan   | Harga Total   |\n",
            "|------|----------|----------|----------------|---------------|\n",
            "| 1    | Beras    | 2        | Rp 11000       | Rp 22000      |\n",
            "| 2    | Ayam     | 3        | Rp 32000       | Rp 96000      |\n",
            "Total pesanan adalah: Rp 118000\n",
            "Besaran diskon adalah: Rp 0\n",
            "Total pesanan setelah diskon: Rp 118000\n",
            "Pemesanan sudah benar\n"
          ]
        }
      ]
    },
    {
      "cell_type": "markdown",
      "source": [
        "TEST 2"
      ],
      "metadata": {
        "id": "QbzVuiUivbLR"
      }
    },
    {
      "cell_type": "code",
      "source": [
        "transaction_1.delete_item()"
      ],
      "metadata": {
        "colab": {
          "base_uri": "https://localhost:8080/"
        },
        "id": "W1wUiuentdJ-",
        "outputId": "08d8d843-497e-4536-98ff-e6d79baeb75f"
      },
      "execution_count": null,
      "outputs": [
        {
          "name": "stdout",
          "output_type": "stream",
          "text": [
            "Hapus data belanjaan Anda\n",
            "Data Transaksi:\n",
            "| No   | Barang   | Jumlah   | Harga Satuan   | Harga Total   |\n",
            "|------|----------|----------|----------------|---------------|\n",
            "| 1    | Beras    | 2        | Rp 11000       | Rp 22000      |\n",
            "| 2    | Ayam     | 3        | Rp 32000       | Rp 96000      |\n",
            "Total pesanan adalah: Rp 118000\n",
            "Besaran diskon adalah: Rp 0\n",
            "Total pesanan setelah diskon: Rp 118000\n",
            "Pemesanan sudah benar\n",
            "Masukan nomer barang di daftar belanjaan Anda yang ingin dihapus.\n",
            "Nomer Barang: 2\n"
          ]
        }
      ]
    },
    {
      "cell_type": "code",
      "source": [
        "transaction_1.check_order()"
      ],
      "metadata": {
        "colab": {
          "base_uri": "https://localhost:8080/"
        },
        "id": "gP5GGHoHvkyw",
        "outputId": "0e55d1c7-57dc-4a60-cf82-31743be60444"
      },
      "execution_count": null,
      "outputs": [
        {
          "output_type": "stream",
          "name": "stdout",
          "text": [
            "Data Transaksi:\n",
            "| No   | Barang   | Jumlah   | Harga Satuan   | Harga Total   |\n",
            "|------|----------|----------|----------------|---------------|\n",
            "| 1    | Beras    | 2        | Rp 11000       | Rp 22000      |\n",
            "Total pesanan adalah: Rp 22000\n",
            "Besaran diskon adalah: Rp 0\n",
            "Total pesanan setelah diskon: Rp 22000\n",
            "Pemesanan sudah benar\n"
          ]
        }
      ]
    },
    {
      "cell_type": "markdown",
      "source": [
        "TEST 3"
      ],
      "metadata": {
        "id": "bprITijvv8az"
      }
    },
    {
      "cell_type": "code",
      "source": [
        "transaction_1.reset_order()"
      ],
      "metadata": {
        "colab": {
          "base_uri": "https://localhost:8080/"
        },
        "id": "kFA8y5s-v3t6",
        "outputId": "1a434656-3194-4812-89fc-de13ea914110"
      },
      "execution_count": null,
      "outputs": [
        {
          "name": "stdout",
          "output_type": "stream",
          "text": [
            "Data Transaksi:\n",
            "| No   | Barang   | Jumlah   | Harga Satuan   | Harga Total   |\n",
            "|------|----------|----------|----------------|---------------|\n",
            "| 1    | Beras    | 2        | Rp 11000       | Rp 22000      |\n",
            "Total pesanan adalah: Rp 22000\n",
            "Besaran diskon adalah: Rp 0\n",
            "Total pesanan setelah diskon: Rp 22000\n",
            "Pemesanan sudah benar\n",
            "Anda ingin reset order (Ya/Tidak)?Ya\n"
          ]
        }
      ]
    },
    {
      "cell_type": "code",
      "source": [
        "transaction_1.check_order()"
      ],
      "metadata": {
        "colab": {
          "base_uri": "https://localhost:8080/",
          "height": 503
        },
        "id": "gC-EcET-wA0U",
        "outputId": "c2bd7765-44e9-4133-be81-437833864a23"
      },
      "execution_count": null,
      "outputs": [
        {
          "output_type": "stream",
          "name": "stdout",
          "text": [
            "Data Transaksi:\n",
            "| No   | Barang   | Jumlah   | Harga Satuan   | Harga Total   |\n",
            "|------|----------|----------|----------------|---------------|\n",
            "Total pesanan adalah: Rp 0\n"
          ]
        },
        {
          "output_type": "error",
          "ename": "Exception",
          "evalue": "ignored",
          "traceback": [
            "\u001b[0;31m---------------------------------------------------------------------------\u001b[0m",
            "\u001b[0;31mUnboundLocalError\u001b[0m                         Traceback (most recent call last)",
            "\u001b[0;32m<ipython-input-156-f2b878de653d>\u001b[0m in \u001b[0;36mcheck_order\u001b[0;34m(self)\u001b[0m\n\u001b[1;32m     99\u001b[0m             \u001b[0mprint\u001b[0m\u001b[0;34m(\u001b[0m\u001b[0;34mf\"Total pesanan adalah: Rp {total_order}\"\u001b[0m\u001b[0;34m)\u001b[0m\u001b[0;34m\u001b[0m\u001b[0;34m\u001b[0m\u001b[0m\n\u001b[0;32m--> 100\u001b[0;31m             \u001b[0mprint\u001b[0m\u001b[0;34m(\u001b[0m\u001b[0;34mf\"Besaran diskon adalah: Rp {diskon}\"\u001b[0m\u001b[0;34m)\u001b[0m\u001b[0;34m\u001b[0m\u001b[0;34m\u001b[0m\u001b[0m\n\u001b[0m\u001b[1;32m    101\u001b[0m             \u001b[0mprint\u001b[0m\u001b[0;34m(\u001b[0m\u001b[0;34mf\"Total pesanan setelah diskon: Rp {harga_total_setelah_diskon}\"\u001b[0m\u001b[0;34m)\u001b[0m\u001b[0;34m\u001b[0m\u001b[0;34m\u001b[0m\u001b[0m\n",
            "\u001b[0;31mUnboundLocalError\u001b[0m: local variable 'diskon' referenced before assignment",
            "\nDuring handling of the above exception, another exception occurred:\n",
            "\u001b[0;31mException\u001b[0m                                 Traceback (most recent call last)",
            "\u001b[0;32m<ipython-input-164-a16524722ce5>\u001b[0m in \u001b[0;36m<module>\u001b[0;34m\u001b[0m\n\u001b[0;32m----> 1\u001b[0;31m \u001b[0mtransaction_1\u001b[0m\u001b[0;34m.\u001b[0m\u001b[0mcheck_order\u001b[0m\u001b[0;34m(\u001b[0m\u001b[0;34m)\u001b[0m\u001b[0;34m\u001b[0m\u001b[0;34m\u001b[0m\u001b[0m\n\u001b[0m",
            "\u001b[0;32m<ipython-input-156-f2b878de653d>\u001b[0m in \u001b[0;36mcheck_order\u001b[0;34m(self)\u001b[0m\n\u001b[1;32m    102\u001b[0m             \u001b[0mprint\u001b[0m\u001b[0;34m(\u001b[0m\u001b[0;34mf\"Pemesanan sudah benar\"\u001b[0m\u001b[0;34m)\u001b[0m\u001b[0;34m\u001b[0m\u001b[0;34m\u001b[0m\u001b[0m\n\u001b[1;32m    103\u001b[0m         \u001b[0;32mexcept\u001b[0m\u001b[0;34m:\u001b[0m\u001b[0;34m\u001b[0m\u001b[0;34m\u001b[0m\u001b[0m\n\u001b[0;32m--> 104\u001b[0;31m             \u001b[0;32mraise\u001b[0m \u001b[0mException\u001b[0m\u001b[0;34m(\u001b[0m\u001b[0;34mf\"Order masih 0.\"\u001b[0m\u001b[0;34m)\u001b[0m\u001b[0;34m\u001b[0m\u001b[0;34m\u001b[0m\u001b[0m\n\u001b[0m\u001b[1;32m    105\u001b[0m \u001b[0;34m\u001b[0m\u001b[0m\n\u001b[1;32m    106\u001b[0m     \u001b[0;31m# HAPUS BARANG DI ORDER\u001b[0m\u001b[0;34m\u001b[0m\u001b[0;34m\u001b[0m\u001b[0;34m\u001b[0m\u001b[0m\n",
            "\u001b[0;31mException\u001b[0m: Order masih 0."
          ]
        }
      ]
    },
    {
      "cell_type": "markdown",
      "source": [
        "TEST 4"
      ],
      "metadata": {
        "id": "JhsDZFLqwaUQ"
      }
    },
    {
      "cell_type": "code",
      "source": [
        "transaction_1.add_to_cart()"
      ],
      "metadata": {
        "colab": {
          "base_uri": "https://localhost:8080/"
        },
        "id": "om3tQtqjwW27",
        "outputId": "314251d2-b1cc-4c5a-ca4a-815951398429"
      },
      "execution_count": null,
      "outputs": [
        {
          "output_type": "stream",
          "name": "stdout",
          "text": [
            "Masukan data belanjaan Anda\n",
            "Barang: Beras\n",
            "Jumlah: 5\n",
            "Harga Satuan: Rp 11000 per 1kg\n",
            "Total Harga: Rp 55000\n"
          ]
        }
      ]
    },
    {
      "cell_type": "code",
      "source": [
        "transaction_1.add_to_cart()"
      ],
      "metadata": {
        "colab": {
          "base_uri": "https://localhost:8080/"
        },
        "id": "Ebah4g6Lwj9h",
        "outputId": "39e3c6d5-0c4b-4816-a961-8efd3fb59728"
      },
      "execution_count": null,
      "outputs": [
        {
          "output_type": "stream",
          "name": "stdout",
          "text": [
            "Masukan data belanjaan Anda\n",
            "Barang: Ayam\n",
            "Jumlah: 9\n",
            "Harga Satuan: Rp 32000 per 1 ekor\n",
            "Total Harga: Rp 288000\n"
          ]
        }
      ]
    },
    {
      "cell_type": "code",
      "source": [
        "transaction_1.add_to_cart()"
      ],
      "metadata": {
        "colab": {
          "base_uri": "https://localhost:8080/"
        },
        "id": "_wABsgoLwqVR",
        "outputId": "9c22846b-3ca2-4b8a-e7f0-e8d7bdc3dc64"
      },
      "execution_count": null,
      "outputs": [
        {
          "output_type": "stream",
          "name": "stdout",
          "text": [
            "Masukan data belanjaan Anda\n",
            "Barang: Kangkung\n",
            "Jumlah: 15\n",
            "Harga Satuan: Rp 8000 per 1 ikat\n",
            "Total Harga: Rp 120000\n"
          ]
        }
      ]
    },
    {
      "cell_type": "code",
      "source": [
        "transaction_1.check_order()"
      ],
      "metadata": {
        "colab": {
          "base_uri": "https://localhost:8080/"
        },
        "id": "Ipq1DRR4wwMo",
        "outputId": "d082eeda-f1d3-4fdf-de78-d7a36211ba6b"
      },
      "execution_count": null,
      "outputs": [
        {
          "output_type": "stream",
          "name": "stdout",
          "text": [
            "Data Transaksi:\n",
            "| No   | Barang   | Jumlah   | Harga Satuan   | Harga Total   |\n",
            "|------|----------|----------|----------------|---------------|\n",
            "| 1    | Beras    | 5        | Rp 11000       | Rp 55000      |\n",
            "| 2    | Ayam     | 9        | Rp 32000       | Rp 288000     |\n",
            "| 3    | Kangkung | 15       | Rp 8000        | Rp 120000     |\n",
            "Total pesanan adalah: Rp 463000\n",
            "Besaran diskon adalah: Rp 37040.0\n",
            "Total pesanan setelah diskon: Rp 425960.0\n",
            "Pemesanan sudah benar\n"
          ]
        }
      ]
    },
    {
      "cell_type": "code",
      "source": [],
      "metadata": {
        "id": "Jp5f1gr-w5jC"
      },
      "execution_count": null,
      "outputs": []
    }
  ]
}